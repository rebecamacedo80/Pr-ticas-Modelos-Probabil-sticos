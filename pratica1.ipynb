{
 "cells": [
  {
   "cell_type": "markdown",
   "metadata": {},
   "source": [
    "# Prática 1 - Estatística descritiva"
   ]
  },
  {
   "cell_type": "code",
   "execution_count": 44,
   "metadata": {},
   "outputs": [],
   "source": [
    "import numpy\n",
    "import math\n",
    "import pandas as pd\n",
    "from statistics import stdev\n",
    "from statistics import variance\n",
    "from statistics import mean"
   ]
  },
  {
   "cell_type": "markdown",
   "metadata": {},
   "source": [
    "### Questão 1\n",
    "\n",
    "\n",
    "Criação da tabela de frequencias utilizando o ponto médio das classes de pressão siatólica em 'mm de Hg'"
   ]
  },
  {
   "cell_type": "code",
   "execution_count": 45,
   "metadata": {},
   "outputs": [
    {
     "name": "stdout",
     "output_type": "stream",
     "text": [
      "   pressao  frequencia\n",
      "0       90          30\n",
      "1      110          80\n",
      "2      130          40\n",
      "3      150          10\n",
      "4      170           4\n",
      "5      190           6 \n",
      "\n",
      "TOTAL:   170 \n",
      "\n"
     ]
    }
   ],
   "source": [
    "press_val = [90, 110, 130, 150, 170, 190]\n",
    "freq_val = [30, 80, 40, 10, 4, 6]\n",
    "\n",
    "table = pd.DataFrame( { 'pressao': press_val, 'frequencia': freq_val } )\n",
    "total = sum(table['frequencia'].values)\n",
    "print(table, '\\n')\n",
    "print('TOTAL:  ', total, '\\n')"
   ]
  },
  {
   "cell_type": "markdown",
   "metadata": {},
   "source": [
    "#### a) A percentagem de mulheres que têm pressão igual ou maior que 120mm de Hg."
   ]
  },
  {
   "cell_type": "markdown",
   "metadata": {},
   "source": [
    "A frequencias simples de mulheres com pressão maior ou igual a 120 foi somada e dividida pelo total de mulheres da amostra, obtendo a frequencia relativa ( _fri = fi / n_ ) e multiplicada por 100 para obter a porcentagem. "
   ]
  },
  {
   "cell_type": "code",
   "execution_count": 46,
   "metadata": {},
   "outputs": [
    {
     "name": "stdout",
     "output_type": "stream",
     "text": [
      "A percentagem é de 35.0 % (arredondado)\n"
     ]
    }
   ],
   "source": [
    "a_values = table.loc[table['pressao'] >= 120, ['frequencia']].values \n",
    "a = (sum(a_values)/total)*100\n",
    "\n",
    "print('A percentagem é de', round(a[0]), '% (arredondado)')"
   ]
  },
  {
   "cell_type": "markdown",
   "metadata": {},
   "source": [
    "###### b) O número de mulheres que têm pressão menor que 160 mm de Hg.\n",
    "\n",
    "Soma de todos as frequencias das 4 primeiras classes (em que a pressão é menor que 160 mm de Hg)"
   ]
  },
  {
   "cell_type": "code",
   "execution_count": 47,
   "metadata": {},
   "outputs": [
    {
     "name": "stdout",
     "output_type": "stream",
     "text": [
      "O número de mulheres com pressão menor que 160 mm de Hg é 160\n"
     ]
    }
   ],
   "source": [
    "b_values = table.loc[table['pressao'] < 160, ['frequencia']].values\n",
    "b = sum(b_values)\n",
    "\n",
    "print('O número de mulheres com pressão menor que 160 mm de Hg é', b[0])"
   ]
  },
  {
   "cell_type": "markdown",
   "metadata": {},
   "source": [
    "###### c) O número de mulheres (e a percentagem) que têm pressão igual ou maior que 100mm de Hg."
   ]
  },
  {
   "cell_type": "code",
   "execution_count": 48,
   "metadata": {},
   "outputs": [
    {
     "name": "stdout",
     "output_type": "stream",
     "text": [
      "O número de mulheres que têm pressão igual ou maior que 100mm de Hg é 140\n",
      "Sendo a percentagem igual a 82.0 % (arredondado)\n"
     ]
    }
   ],
   "source": [
    "c_values = table.loc[table['pressao'] >= 100, ['frequencia']].values\n",
    "c_num = sum(c_values)\n",
    "c_perc = (c_num[0]/total)*100\n",
    "\n",
    "print('O número de mulheres que têm pressão igual ou maior que 100mm de Hg é', c_num[0])\n",
    "print('Sendo a percentagem igual a', round(c_perc), '% (arredondado)')"
   ]
  },
  {
   "cell_type": "markdown",
   "metadata": {},
   "source": [
    "###### d) Qual a pressão sistólica mais frequente?"
   ]
  },
  {
   "cell_type": "code",
   "execution_count": 49,
   "metadata": {},
   "outputs": [
    {
     "name": "stdout",
     "output_type": "stream",
     "text": [
      "A pressão sistólica mais frequente é 110 tendo uma frequencia de 80\n"
     ]
    }
   ],
   "source": [
    "most_frequent = 0\n",
    "for index, row in table.iterrows():\n",
    "    if row['frequencia'] > most_frequent:\n",
    "        most_frequent = row['frequencia']\n",
    "        press = row['pressao']\n",
    "print('A pressão sistólica mais frequente é', press, 'tendo uma frequencia de', most_frequent)\n"
   ]
  },
  {
   "cell_type": "markdown",
   "metadata": {},
   "source": [
    "###### e) O desvio padrão e o coeficiente de variação para a pressão sistólica"
   ]
  },
  {
   "cell_type": "code",
   "execution_count": 50,
   "metadata": {},
   "outputs": [
    {
     "name": "stdout",
     "output_type": "stream",
     "text": [
      "A média de pessão sistólica é 117.76470588235294\n",
      "O desvio padão é 22.541541812095197\n",
      "O coeficiente de variação é 19.141169370910006\n"
     ]
    }
   ],
   "source": [
    "somatorio = 0\n",
    "for index, row in table.iterrows():\n",
    "    somatorio = somatorio + (row['pressao']*row['frequencia'])\n",
    "\n",
    "X_ = somatorio / sum(freq_val)\n",
    "\n",
    "print('A média de pessão sistólica é', X_)\n",
    "\n",
    "desv_unit = 0\n",
    "for index, row in table.iterrows():\n",
    "    desv_unit = desv_unit + (row['frequencia'] * pow( row['pressao'] - X_, 2))\n",
    "    \n",
    "s = math.sqrt(desv_unit/sum(freq_val)-1)\n",
    "\n",
    "print('O desvio padão é', s)\n",
    "\n",
    "cv = s / X_\n",
    "print('O coeficiente de variação é', cv*100)"
   ]
  },
  {
   "cell_type": "markdown",
   "metadata": {},
   "source": [
    "###### f) Construa o respectivo histograma."
   ]
  },
  {
   "cell_type": "code",
   "execution_count": 51,
   "metadata": {},
   "outputs": [
    {
     "data": {
      "image/png": "[encoded data removed]",
      "text/plain": [
       "<Figure size 576x432 with 1 Axes>"
      ]
     },
     "metadata": {
      "needs_background": "light"
     },
     "output_type": "display_data"
    }
   ],
   "source": [
    "import matplotlib.pyplot as plt\n",
    "\n",
    "plt.figure(figsize=(8, 6))\n",
    "plt.hist(table['pressao'], bins=[80,100,120,140,160,180,200], weights=table['frequencia'])\n",
    "plt.show()"
   ]
  },
  {
   "cell_type": "markdown",
   "metadata": {},
   "source": [
    "### Questão 2"
   ]
  },
  {
   "cell_type": "markdown",
   "metadata": {},
   "source": [
    "##### 1. Efetua-se um rol estatístico nos dados brutos, isto é, ordenar os dados em ordem crescente;"
   ]
  },
  {
   "cell_type": "code",
   "execution_count": 52,
   "metadata": {},
   "outputs": [],
   "source": [
    "rol = sorted([9,12,10,8,11, 13, 10, 15, 9, 7, 14, 12, 9, 7, 15, 6, 4, 16, 18, 9,\n",
    "19, 10, 20, 13, 8, 7, 17, 15, 14, 20, 21, 19, 22, 6, 5, 12, 15, 23, 19, 24,\n",
    "15, 10, 12, 9, 15, 24, 6, 24, 13, 12])"
   ]
  },
  {
   "cell_type": "code",
   "execution_count": 53,
   "metadata": {
    "scrolled": true
   },
   "outputs": [
    {
     "name": "stdout",
     "output_type": "stream",
     "text": [
      "[4, 5, 6, 6, 6, 7, 7, 7, 8, 8, 9, 9, 9, 9, 9, 10, 10, 10, 10, 11, 12, 12, 12, 12, 12, 13, 13, 13, 14, 14, 15, 15, 15, 15, 15, 15, 16, 17, 18, 19, 19, 19, 20, 20, 21, 22, 23, 24, 24, 24]\n"
     ]
    }
   ],
   "source": [
    "print(rol)"
   ]
  },
  {
   "cell_type": "markdown",
   "metadata": {},
   "source": [
    "###### 2. Determina-se a amplitude total(AT) dos dados: AT = X max − X min em que Xmin e X max são os valores mínimo e máximo do conjunto de dados respectivamente."
   ]
  },
  {
   "cell_type": "code",
   "execution_count": 54,
   "metadata": {},
   "outputs": [
    {
     "name": "stdout",
     "output_type": "stream",
     "text": [
      "Amplitude total dos dados: 20\n"
     ]
    }
   ],
   "source": [
    "at = max(rol) - min(rol)\n",
    "print('Amplitude total dos dados:', at)"
   ]
  },
  {
   "cell_type": "markdown",
   "metadata": {},
   "source": [
    "###### 3. Escolhe-se convenientemente o número de classes(K)."
   ]
  },
  {
   "cell_type": "markdown",
   "metadata": {},
   "source": [
    "O número de classes determinado foi de 5 (pedido na questão)"
   ]
  },
  {
   "cell_type": "code",
   "execution_count": 55,
   "metadata": {},
   "outputs": [],
   "source": [
    "k = 5"
   ]
  },
  {
   "cell_type": "markdown",
   "metadata": {},
   "source": [
    "###### 4. Determinar a amplitude de classe(h)"
   ]
  },
  {
   "cell_type": "code",
   "execution_count": 56,
   "metadata": {},
   "outputs": [
    {
     "name": "stdout",
     "output_type": "stream",
     "text": [
      "A amplitude de classe é: 4\n"
     ]
    }
   ],
   "source": [
    "h = round(at/k)\n",
    "print('A amplitude de classe é:', h)"
   ]
  },
  {
   "cell_type": "markdown",
   "metadata": {},
   "source": [
    "###### 5. Efetua-se o agrupamento em classes e elabora-se a tabela de Distribuição de Freqüências."
   ]
  },
  {
   "cell_type": "code",
   "execution_count": 57,
   "metadata": {},
   "outputs": [
    {
     "name": "stdout",
     "output_type": "stream",
     "text": [
      "Classes: ['4 - 8', '8 - 12', '12 - 16', '16 - 20', '20 - 24']\n",
      "Pontos médios: [6, 10, 14, 18, 22]\n",
      "L superior: [8, 12, 16, 20, 24]\n",
      "L inferior [4, 8, 12, 16, 20]\n"
     ]
    },
    {
     "data": {
      "text/html": [
       "<div>\n",
       "<style scoped>\n",
       "    .dataframe tbody tr th:only-of-type {\n",
       "        vertical-align: middle;\n",
       "    }\n",
       "\n",
       "    .dataframe tbody tr th {\n",
       "        vertical-align: top;\n",
       "    }\n",
       "\n",
       "    .dataframe thead th {\n",
       "        text-align: right;\n",
       "    }\n",
       "</style>\n",
       "<table border=\"1\" class=\"dataframe\">\n",
       "  <thead>\n",
       "    <tr style=\"text-align: right;\">\n",
       "      <th></th>\n",
       "      <th>Classes</th>\n",
       "      <th>l. inferior</th>\n",
       "      <th>l. superior</th>\n",
       "      <th>ponto médio</th>\n",
       "    </tr>\n",
       "  </thead>\n",
       "  <tbody>\n",
       "    <tr>\n",
       "      <td>0</td>\n",
       "      <td>4 - 8</td>\n",
       "      <td>4</td>\n",
       "      <td>8</td>\n",
       "      <td>6</td>\n",
       "    </tr>\n",
       "    <tr>\n",
       "      <td>1</td>\n",
       "      <td>8 - 12</td>\n",
       "      <td>8</td>\n",
       "      <td>12</td>\n",
       "      <td>10</td>\n",
       "    </tr>\n",
       "    <tr>\n",
       "      <td>2</td>\n",
       "      <td>12 - 16</td>\n",
       "      <td>12</td>\n",
       "      <td>16</td>\n",
       "      <td>14</td>\n",
       "    </tr>\n",
       "    <tr>\n",
       "      <td>3</td>\n",
       "      <td>16 - 20</td>\n",
       "      <td>16</td>\n",
       "      <td>20</td>\n",
       "      <td>18</td>\n",
       "    </tr>\n",
       "    <tr>\n",
       "      <td>4</td>\n",
       "      <td>20 - 24</td>\n",
       "      <td>20</td>\n",
       "      <td>24</td>\n",
       "      <td>22</td>\n",
       "    </tr>\n",
       "  </tbody>\n",
       "</table>\n",
       "</div>"
      ],
      "text/plain": [
       "   Classes  l. inferior  l. superior  ponto médio\n",
       "0    4 - 8            4            8            6\n",
       "1   8 - 12            8           12           10\n",
       "2  12 - 16           12           16           14\n",
       "3  16 - 20           16           20           18\n",
       "4  20 - 24           20           24           22"
      ]
     },
     "execution_count": 57,
     "metadata": {},
     "output_type": "execute_result"
    }
   ],
   "source": [
    "cla = []\n",
    "middle_point = []\n",
    "l_inf = []\n",
    "l_sup = []\n",
    "\n",
    "# Menor valor da série\n",
    "menor = min(rol)\n",
    "\n",
    "# Menor valor somado a amplitude\n",
    "menor_amp = menor+h\n",
    "\n",
    "valor = menor\n",
    "while valor < max(rol):    \n",
    "    cla.append('{} - {}'.format(round(valor,1),round(valor+h,1)))\n",
    "    l_inf.append(valor)\n",
    "    l_sup.append(valor+h)\n",
    "    middle_point.append(int((valor + (valor+h))/2))\n",
    "    \n",
    "    valor += h\n",
    "\n",
    "print('Classes:', cla)\n",
    "print('Pontos médios:', middle_point)\n",
    "print('L superior:', l_sup)\n",
    "print('L inferior', l_inf)\n",
    "\n",
    "table_freq = pd.DataFrame( { 'Classes': cla, 'l. inferior': l_inf, 'l. superior': l_sup, 'ponto médio': middle_point } )\n",
    "table_freq"
   ]
  },
  {
   "cell_type": "code",
   "execution_count": 58,
   "metadata": {},
   "outputs": [
    {
     "name": "stdout",
     "output_type": "stream",
     "text": [
      "Frequencias: [8, 12, 16, 6, 8]\n",
      "Frequencias acumuladas: [8, 20, 36, 42, 50]\n"
     ]
    },
    {
     "data": {
      "text/html": [
       "<div>\n",
       "<style scoped>\n",
       "    .dataframe tbody tr th:only-of-type {\n",
       "        vertical-align: middle;\n",
       "    }\n",
       "\n",
       "    .dataframe tbody tr th {\n",
       "        vertical-align: top;\n",
       "    }\n",
       "\n",
       "    .dataframe thead th {\n",
       "        text-align: right;\n",
       "    }\n",
       "</style>\n",
       "<table border=\"1\" class=\"dataframe\">\n",
       "  <thead>\n",
       "    <tr style=\"text-align: right;\">\n",
       "      <th></th>\n",
       "      <th>Classes</th>\n",
       "      <th>l. inferior</th>\n",
       "      <th>l. superior</th>\n",
       "      <th>ponto médio</th>\n",
       "      <th>frequencia</th>\n",
       "      <th>frequencia acumulada</th>\n",
       "    </tr>\n",
       "  </thead>\n",
       "  <tbody>\n",
       "    <tr>\n",
       "      <td>0</td>\n",
       "      <td>4 - 8</td>\n",
       "      <td>4</td>\n",
       "      <td>8</td>\n",
       "      <td>6</td>\n",
       "      <td>8</td>\n",
       "      <td>8</td>\n",
       "    </tr>\n",
       "    <tr>\n",
       "      <td>1</td>\n",
       "      <td>8 - 12</td>\n",
       "      <td>8</td>\n",
       "      <td>12</td>\n",
       "      <td>10</td>\n",
       "      <td>12</td>\n",
       "      <td>20</td>\n",
       "    </tr>\n",
       "    <tr>\n",
       "      <td>2</td>\n",
       "      <td>12 - 16</td>\n",
       "      <td>12</td>\n",
       "      <td>16</td>\n",
       "      <td>14</td>\n",
       "      <td>16</td>\n",
       "      <td>36</td>\n",
       "    </tr>\n",
       "    <tr>\n",
       "      <td>3</td>\n",
       "      <td>16 - 20</td>\n",
       "      <td>16</td>\n",
       "      <td>20</td>\n",
       "      <td>18</td>\n",
       "      <td>6</td>\n",
       "      <td>42</td>\n",
       "    </tr>\n",
       "    <tr>\n",
       "      <td>4</td>\n",
       "      <td>20 - 24</td>\n",
       "      <td>20</td>\n",
       "      <td>24</td>\n",
       "      <td>22</td>\n",
       "      <td>8</td>\n",
       "      <td>50</td>\n",
       "    </tr>\n",
       "  </tbody>\n",
       "</table>\n",
       "</div>"
      ],
      "text/plain": [
       "   Classes  l. inferior  l. superior  ponto médio  frequencia  \\\n",
       "0    4 - 8            4            8            6           8   \n",
       "1   8 - 12            8           12           10          12   \n",
       "2  12 - 16           12           16           14          16   \n",
       "3  16 - 20           16           20           18           6   \n",
       "4  20 - 24           20           24           22           8   \n",
       "\n",
       "   frequencia acumulada  \n",
       "0                     8  \n",
       "1                    20  \n",
       "2                    36  \n",
       "3                    42  \n",
       "4                    50  "
      ]
     },
     "execution_count": 58,
     "metadata": {},
     "output_type": "execute_result"
    }
   ],
   "source": [
    "freq_list = [0, 0, 0, 0, 0]\n",
    "freq_acc = []\n",
    "\n",
    "for number in rol:\n",
    "    if number >= 4 and number < 8:\n",
    "        freq_list[0] += 1\n",
    "    \n",
    "    elif number >= 8 and number < 12:\n",
    "        freq_list[1] += 1\n",
    "    \n",
    "    elif number >= 12 and number < 16:\n",
    "        freq_list[2] += 1\n",
    "    \n",
    "    elif number >= 16 and number < 20:\n",
    "        freq_list[3] += 1\n",
    "    \n",
    "    elif number >= 20 and number <= 24:\n",
    "        freq_list[4] += 1\n",
    "        \n",
    "print('Frequencias:', freq_list)\n",
    "\n",
    "acc = 0\n",
    "for f in freq_list:\n",
    "    acc += f\n",
    "    freq_acc.append(acc)\n",
    "    \n",
    "print('Frequencias acumuladas:', freq_acc)\n",
    "    \n",
    "table_freq['frequencia'] = pd.Series(freq_list, index=table_freq.index)\n",
    "table_freq['frequencia acumulada'] = pd.Series(freq_acc, index=table_freq.index)\n",
    "\n",
    "table_freq"
   ]
  },
  {
   "cell_type": "markdown",
   "metadata": {},
   "source": [
    "###### b) Desenhe o histograma e o polígono de frequências;"
   ]
  },
  {
   "cell_type": "code",
   "execution_count": 59,
   "metadata": {},
   "outputs": [
    {
     "data": {
      "image/png": "[encoded data removed]",
      "text/plain": [
       "<Figure size 576x432 with 1 Axes>"
      ]
     },
     "metadata": {
      "needs_background": "light"
     },
     "output_type": "display_data"
    }
   ],
   "source": [
    "plt.figure(figsize=(8, 6))\n",
    "plt.hist(table_freq['ponto médio'], bins=[4,8,12,16,20,24], weights=table_freq['frequencia'])\n",
    "plt.show()"
   ]
  },
  {
   "cell_type": "code",
   "execution_count": 60,
   "metadata": {},
   "outputs": [
    {
     "data": {
      "image/png": "[encoded data removed]",
      "text/plain": [
       "<Figure size 432x288 with 1 Axes>"
      ]
     },
     "metadata": {
      "needs_background": "light"
     },
     "output_type": "display_data"
    }
   ],
   "source": [
    "plt.plot(table_freq['ponto médio'], table_freq['frequencia'], color='green', linestyle='dashed', linewidth = 3, \n",
    "         marker='o', markerfacecolor='blue', markersize=12) \n",
    "  \n",
    "# setting x and y axis range \n",
    "plt.ylim(1,20) \n",
    "plt.xlim(3,25)\n",
    "plt.show() "
   ]
  },
  {
   "cell_type": "markdown",
   "metadata": {},
   "source": [
    "###### c) Usando o item a), calcule os coeficientes de mortalidade médio, mediano e modal dos municípios."
   ]
  },
  {
   "cell_type": "code",
   "execution_count": 61,
   "metadata": {},
   "outputs": [
    {
     "name": "stdout",
     "output_type": "stream",
     "text": [
      "Coeficiente de mortalidade médio: 13.52\n",
      "Coeficiente de mortalidade mediano:  13.25\n",
      "Coeficiente de mortalidade modal: 13.14\n"
     ]
    }
   ],
   "source": [
    "# média\n",
    "somatorio = 0\n",
    "for index, row in table_freq.iterrows():\n",
    "    somatorio = somatorio + (row['ponto médio']*row['frequencia'])\n",
    "\n",
    "X_ = somatorio / sum(freq_list)\n",
    "print('Coeficiente de mortalidade médio:', X_)\n",
    "\n",
    "# mediana\n",
    "freq_total = sum(table_freq['frequencia'].values)\n",
    "pos_median = freq_total/2 # (n/2)\n",
    "\n",
    "for index, row in table_freq.iterrows():\n",
    "    if row['frequencia acumulada'] >= pos_median:\n",
    "        \n",
    "        linf_median = table_freq.loc[index, 'l. inferior']\n",
    "        lsup_median = table_freq.loc[index, 'l. superior']\n",
    "        h_median = lsup_median - linf_median\n",
    "        freq_median = table_freq.loc[index, 'frequencia']\n",
    "        freq_acc_ant = table_freq.loc[(index - 1), 'frequencia acumulada']\n",
    "        \n",
    "        break\n",
    "\n",
    "median = linf_median + (((pos_median - freq_acc_ant) * h_median)/freq_median)\n",
    "\n",
    "print('Coeficiente de mortalidade mediano: ', median)\n",
    "\n",
    "# MODA\n",
    "\n",
    "linf_moda = table_freq.loc[table_freq['frequencia'] == max(table_freq['frequencia'].values), 'l. inferior'].values\n",
    "lsup_moda = table_freq.loc[table_freq['frequencia'] == max(table_freq['frequencia'].values), 'l. superior'].values\n",
    "h_moda = lsup_moda - linf_moda\n",
    "freq_modal = max(table_freq['frequencia'].values)\n",
    "index_moda = table_freq.loc[table_freq['frequencia'] == freq_modal].index\n",
    "delta1 = freq_modal - table_freq.loc[index_moda -1, 'frequencia'].values\n",
    "delta2 = freq_modal - table_freq.loc[index_moda +1, 'frequencia'].values\n",
    "\n",
    "moda = linf_moda + ((delta1*h_moda)/(delta1+delta2))\n",
    "\n",
    "print('Coeficiente de mortalidade modal:', round(moda[0], 2))"
   ]
  },
  {
   "cell_type": "code",
   "execution_count": null,
   "metadata": {},
   "outputs": [],
   "source": []
  }
 ],
 "metadata": {
  "kernelspec": {
   "display_name": "Python 3",
   "language": "python",
   "name": "python3"
  },
  "language_info": {
   "codemirror_mode": {
    "name": "ipython",
    "version": 3
   },
   "file_extension": ".py",
   "mimetype": "text/x-python",
   "name": "python",
   "nbconvert_exporter": "python",
   "pygments_lexer": "ipython3",
   "version": "3.6.9"
  }
 },
 "nbformat": 4,
 "nbformat_minor": 2
}
